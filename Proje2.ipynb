{
 "cells": [
  {
   "cell_type": "code",
   "execution_count": 45,
   "metadata": {},
   "outputs": [],
   "source": [
    "import numpy as np\n",
    "import pandas as pd \n",
    "import seaborn as sns\n",
    "import matplotlib as mpl\n",
    "import matplotlib.pyplot as plt\n"
   ]
  },
  {
   "cell_type": "code",
   "execution_count": 12,
   "metadata": {},
   "outputs": [
    {
     "data": {
      "text/html": [
       "<div>\n",
       "<style scoped>\n",
       "    .dataframe tbody tr th:only-of-type {\n",
       "        vertical-align: middle;\n",
       "    }\n",
       "\n",
       "    .dataframe tbody tr th {\n",
       "        vertical-align: top;\n",
       "    }\n",
       "\n",
       "    .dataframe thead th {\n",
       "        text-align: right;\n",
       "    }\n",
       "</style>\n",
       "<table border=\"1\" class=\"dataframe\">\n",
       "  <thead>\n",
       "    <tr style=\"text-align: right;\">\n",
       "      <th></th>\n",
       "      <th>Title</th>\n",
       "      <th>Genre</th>\n",
       "      <th>Premiere</th>\n",
       "      <th>Runtime</th>\n",
       "      <th>IMDB Score</th>\n",
       "      <th>Language</th>\n",
       "    </tr>\n",
       "  </thead>\n",
       "  <tbody>\n",
       "    <tr>\n",
       "      <th>0</th>\n",
       "      <td>Enter the Anime</td>\n",
       "      <td>Documentary</td>\n",
       "      <td>August 5, 2019</td>\n",
       "      <td>58</td>\n",
       "      <td>2.5</td>\n",
       "      <td>English/Japanese</td>\n",
       "    </tr>\n",
       "    <tr>\n",
       "      <th>1</th>\n",
       "      <td>Dark Forces</td>\n",
       "      <td>Thriller</td>\n",
       "      <td>August 21, 2020</td>\n",
       "      <td>81</td>\n",
       "      <td>2.6</td>\n",
       "      <td>Spanish</td>\n",
       "    </tr>\n",
       "    <tr>\n",
       "      <th>2</th>\n",
       "      <td>The App</td>\n",
       "      <td>Science fiction/Drama</td>\n",
       "      <td>December 26, 2019</td>\n",
       "      <td>79</td>\n",
       "      <td>2.6</td>\n",
       "      <td>Italian</td>\n",
       "    </tr>\n",
       "    <tr>\n",
       "      <th>3</th>\n",
       "      <td>The Open House</td>\n",
       "      <td>Horror thriller</td>\n",
       "      <td>January 19, 2018</td>\n",
       "      <td>94</td>\n",
       "      <td>3.2</td>\n",
       "      <td>English</td>\n",
       "    </tr>\n",
       "    <tr>\n",
       "      <th>4</th>\n",
       "      <td>Kaali Khuhi</td>\n",
       "      <td>Mystery</td>\n",
       "      <td>October 30, 2020</td>\n",
       "      <td>90</td>\n",
       "      <td>3.4</td>\n",
       "      <td>Hindi</td>\n",
       "    </tr>\n",
       "  </tbody>\n",
       "</table>\n",
       "</div>"
      ],
      "text/plain": [
       "             Title                  Genre           Premiere  Runtime  \\\n",
       "0  Enter the Anime            Documentary     August 5, 2019       58   \n",
       "1      Dark Forces               Thriller    August 21, 2020       81   \n",
       "2          The App  Science fiction/Drama  December 26, 2019       79   \n",
       "3   The Open House        Horror thriller   January 19, 2018       94   \n",
       "4      Kaali Khuhi                Mystery   October 30, 2020       90   \n",
       "\n",
       "   IMDB Score          Language  \n",
       "0         2.5  English/Japanese  \n",
       "1         2.6           Spanish  \n",
       "2         2.6           Italian  \n",
       "3         3.2           English  \n",
       "4         3.4             Hindi  "
      ]
     },
     "execution_count": 12,
     "metadata": {},
     "output_type": "execute_result"
    }
   ],
   "source": [
    "data = pd.read_csv(\"C:/Users/aalpe/OneDrive/Masaüstü/NetflixOriginals.csv\")\n",
    "data.head()"
   ]
  },
  {
   "cell_type": "code",
   "execution_count": 38,
   "metadata": {},
   "outputs": [
    {
     "name": "stdout",
     "output_type": "stream",
     "text": [
      "Columns: \n",
      " Index(['Title', 'Genre', 'Premiere', 'Runtime', 'IMDB Score', 'Language'], dtype='object') \n",
      "\n",
      " Data Types: \n",
      " Title          object\n",
      "Genre          object\n",
      "Premiere       object\n",
      "Runtime         int64\n",
      "IMDB Score    float64\n",
      "Language       object\n",
      "dtype: object\n"
     ]
    }
   ],
   "source": [
    "print(f\"Columns: \\n {data.columns} \\n\\n Data Types: \\n {data.dtypes}\")\n"
   ]
  },
  {
   "cell_type": "code",
   "execution_count": 39,
   "metadata": {},
   "outputs": [
    {
     "name": "stdout",
     "output_type": "stream",
     "text": [
      "<class 'pandas.core.frame.DataFrame'>\n",
      "RangeIndex: 584 entries, 0 to 583\n",
      "Data columns (total 6 columns):\n",
      " #   Column      Non-Null Count  Dtype  \n",
      "---  ------      --------------  -----  \n",
      " 0   Title       584 non-null    object \n",
      " 1   Genre       584 non-null    object \n",
      " 2   Premiere    584 non-null    object \n",
      " 3   Runtime     584 non-null    int64  \n",
      " 4   IMDB Score  584 non-null    float64\n",
      " 5   Language    584 non-null    object \n",
      "dtypes: float64(1), int64(1), object(4)\n",
      "memory usage: 27.5+ KB\n"
     ]
    }
   ],
   "source": [
    "data.info()"
   ]
  },
  {
   "cell_type": "code",
   "execution_count": 55,
   "metadata": {},
   "outputs": [
    {
     "data": {
      "text/plain": [
       "0"
      ]
     },
     "execution_count": 55,
     "metadata": {},
     "output_type": "execute_result"
    }
   ],
   "source": [
    "# Verinin içinde eksik var mı kontrol ediyoruz.\n",
    "data.isna().sum()\n",
    "data.isnull().sum()\n",
    "\n",
    "# boş veri olsaydı doldurmak için aşağıdaki şekilde kullanacaktık.\n",
    "# data.fillna(ortalamabirdeğer)\n",
    "\n",
    "# tekrar eden veriyi de kontrol ediyoruz.\n",
    "data.duplicated().sum()\n"
   ]
  },
  {
   "cell_type": "code",
   "execution_count": 91,
   "metadata": {},
   "outputs": [
    {
     "data": {
      "text/plain": [
       "<seaborn.axisgrid.PairGrid at 0x2a83e8f28c0>"
      ]
     },
     "execution_count": 91,
     "metadata": {},
     "output_type": "execute_result"
    },
    {
     "data": {
      "image/png": "[encoded data removed]",
      "text/plain": [
       "<Figure size 360x360 with 6 Axes>"
      ]
     },
     "metadata": {
      "needs_background": "light"
     },
     "output_type": "display_data"
    }
   ],
   "source": [
    "#pairplot kullanarak hızlıca sayısal verilerin analizine bakıyoruz.\n",
    "sns.pairplot(data)"
   ]
  },
  {
   "cell_type": "code",
   "execution_count": 95,
   "metadata": {},
   "outputs": [
    {
     "data": {
      "text/html": [
       "<div>\n",
       "<style scoped>\n",
       "    .dataframe tbody tr th:only-of-type {\n",
       "        vertical-align: middle;\n",
       "    }\n",
       "\n",
       "    .dataframe tbody tr th {\n",
       "        vertical-align: top;\n",
       "    }\n",
       "\n",
       "    .dataframe thead th {\n",
       "        text-align: right;\n",
       "    }\n",
       "</style>\n",
       "<table border=\"1\" class=\"dataframe\">\n",
       "  <thead>\n",
       "    <tr style=\"text-align: right;\">\n",
       "      <th></th>\n",
       "      <th>Title</th>\n",
       "      <th>Genre</th>\n",
       "      <th>Premiere</th>\n",
       "      <th>Runtime</th>\n",
       "      <th>IMDB Score</th>\n",
       "      <th>Language</th>\n",
       "      <th>date_new</th>\n",
       "    </tr>\n",
       "  </thead>\n",
       "  <tbody>\n",
       "    <tr>\n",
       "      <th>0</th>\n",
       "      <td>Enter the Anime</td>\n",
       "      <td>Documentary</td>\n",
       "      <td>August 5, 2019</td>\n",
       "      <td>58</td>\n",
       "      <td>2.5</td>\n",
       "      <td>English/Japanese</td>\n",
       "      <td>2019-08-05</td>\n",
       "    </tr>\n",
       "    <tr>\n",
       "      <th>1</th>\n",
       "      <td>Dark Forces</td>\n",
       "      <td>Thriller</td>\n",
       "      <td>August 21, 2020</td>\n",
       "      <td>81</td>\n",
       "      <td>2.6</td>\n",
       "      <td>Spanish</td>\n",
       "      <td>2020-08-21</td>\n",
       "    </tr>\n",
       "    <tr>\n",
       "      <th>2</th>\n",
       "      <td>The App</td>\n",
       "      <td>Science fiction/Drama</td>\n",
       "      <td>December 26, 2019</td>\n",
       "      <td>79</td>\n",
       "      <td>2.6</td>\n",
       "      <td>Italian</td>\n",
       "      <td>2019-12-26</td>\n",
       "    </tr>\n",
       "    <tr>\n",
       "      <th>3</th>\n",
       "      <td>The Open House</td>\n",
       "      <td>Horror thriller</td>\n",
       "      <td>January 19, 2018</td>\n",
       "      <td>94</td>\n",
       "      <td>3.2</td>\n",
       "      <td>English</td>\n",
       "      <td>2018-01-19</td>\n",
       "    </tr>\n",
       "    <tr>\n",
       "      <th>4</th>\n",
       "      <td>Kaali Khuhi</td>\n",
       "      <td>Mystery</td>\n",
       "      <td>October 30, 2020</td>\n",
       "      <td>90</td>\n",
       "      <td>3.4</td>\n",
       "      <td>Hindi</td>\n",
       "      <td>2020-10-30</td>\n",
       "    </tr>\n",
       "  </tbody>\n",
       "</table>\n",
       "</div>"
      ],
      "text/plain": [
       "             Title                  Genre           Premiere  Runtime  \\\n",
       "0  Enter the Anime            Documentary     August 5, 2019       58   \n",
       "1      Dark Forces               Thriller    August 21, 2020       81   \n",
       "2          The App  Science fiction/Drama  December 26, 2019       79   \n",
       "3   The Open House        Horror thriller   January 19, 2018       94   \n",
       "4      Kaali Khuhi                Mystery   October 30, 2020       90   \n",
       "\n",
       "   IMDB Score          Language   date_new  \n",
       "0         2.5  English/Japanese 2019-08-05  \n",
       "1         2.6           Spanish 2020-08-21  \n",
       "2         2.6           Italian 2019-12-26  \n",
       "3         3.2           English 2018-01-19  \n",
       "4         3.4             Hindi 2020-10-30  "
      ]
     },
     "execution_count": 95,
     "metadata": {},
     "output_type": "execute_result"
    }
   ],
   "source": [
    "# Yayınlanma tarihini analizi kolaylaştırmak için to_datetime kullanarak çeviriyoruz ve yeni kolon ekliyoruz. YY-MM-DD\n",
    "data[\"date_new\"] = pd.to_datetime(data[\"Premiere\"])\n",
    "data.head()\n",
    "\n"
   ]
  },
  {
   "cell_type": "code",
   "execution_count": 97,
   "metadata": {},
   "outputs": [
    {
     "name": "stdout",
     "output_type": "stream",
     "text": [
      "93.57705479452055\n",
      "          Runtime  IMDB Score\n",
      "count  584.000000  584.000000\n",
      "mean    93.577055    6.271747\n",
      "std     27.761683    0.979256\n",
      "min      4.000000    2.500000\n",
      "25%     86.000000    5.700000\n",
      "50%     97.000000    6.350000\n",
      "75%    108.000000    7.000000\n",
      "max    209.000000    9.000000\n"
     ]
    },
    {
     "data": {
      "text/html": [
       "<div>\n",
       "<style scoped>\n",
       "    .dataframe tbody tr th:only-of-type {\n",
       "        vertical-align: middle;\n",
       "    }\n",
       "\n",
       "    .dataframe tbody tr th {\n",
       "        vertical-align: top;\n",
       "    }\n",
       "\n",
       "    .dataframe thead th {\n",
       "        text-align: right;\n",
       "    }\n",
       "</style>\n",
       "<table border=\"1\" class=\"dataframe\">\n",
       "  <thead>\n",
       "    <tr style=\"text-align: right;\">\n",
       "      <th></th>\n",
       "      <th>Title</th>\n",
       "      <th>Genre</th>\n",
       "      <th>Premiere</th>\n",
       "      <th>Runtime</th>\n",
       "      <th>IMDB Score</th>\n",
       "      <th>Language</th>\n",
       "      <th>date_new</th>\n",
       "    </tr>\n",
       "  </thead>\n",
       "  <tbody>\n",
       "    <tr>\n",
       "      <th>561</th>\n",
       "      <td>The Irishman</td>\n",
       "      <td>Crime drama</td>\n",
       "      <td>November 27, 2019</td>\n",
       "      <td>209</td>\n",
       "      <td>7.8</td>\n",
       "      <td>English</td>\n",
       "      <td>2019-11-27</td>\n",
       "    </tr>\n",
       "    <tr>\n",
       "      <th>328</th>\n",
       "      <td>Da 5 Bloods</td>\n",
       "      <td>War drama</td>\n",
       "      <td>June 12, 2020</td>\n",
       "      <td>155</td>\n",
       "      <td>6.5</td>\n",
       "      <td>English</td>\n",
       "      <td>2020-06-12</td>\n",
       "    </tr>\n",
       "    <tr>\n",
       "      <th>581</th>\n",
       "      <td>Springsteen on Broadway</td>\n",
       "      <td>One-man show</td>\n",
       "      <td>December 16, 2018</td>\n",
       "      <td>153</td>\n",
       "      <td>8.5</td>\n",
       "      <td>English</td>\n",
       "      <td>2018-12-16</td>\n",
       "    </tr>\n",
       "    <tr>\n",
       "      <th>247</th>\n",
       "      <td>Citation</td>\n",
       "      <td>Drama</td>\n",
       "      <td>November 6, 2020</td>\n",
       "      <td>151</td>\n",
       "      <td>6.2</td>\n",
       "      <td>English</td>\n",
       "      <td>2020-11-06</td>\n",
       "    </tr>\n",
       "    <tr>\n",
       "      <th>284</th>\n",
       "      <td>The Forest of Love</td>\n",
       "      <td>Drama</td>\n",
       "      <td>October 11, 2019</td>\n",
       "      <td>151</td>\n",
       "      <td>6.3</td>\n",
       "      <td>Japanese</td>\n",
       "      <td>2019-10-11</td>\n",
       "    </tr>\n",
       "    <tr>\n",
       "      <th>...</th>\n",
       "      <td>...</td>\n",
       "      <td>...</td>\n",
       "      <td>...</td>\n",
       "      <td>...</td>\n",
       "      <td>...</td>\n",
       "      <td>...</td>\n",
       "      <td>...</td>\n",
       "    </tr>\n",
       "    <tr>\n",
       "      <th>498</th>\n",
       "      <td>Zion</td>\n",
       "      <td>Documentary</td>\n",
       "      <td>August 10, 2018</td>\n",
       "      <td>11</td>\n",
       "      <td>7.2</td>\n",
       "      <td>English</td>\n",
       "      <td>2018-08-10</td>\n",
       "    </tr>\n",
       "    <tr>\n",
       "      <th>66</th>\n",
       "      <td>American Factory: A Conversation with the Obamas</td>\n",
       "      <td>Aftershow / Interview</td>\n",
       "      <td>August 21, 2019</td>\n",
       "      <td>10</td>\n",
       "      <td>5.2</td>\n",
       "      <td>English</td>\n",
       "      <td>2019-08-21</td>\n",
       "    </tr>\n",
       "    <tr>\n",
       "      <th>325</th>\n",
       "      <td>Canvas</td>\n",
       "      <td>Animation / Short</td>\n",
       "      <td>December 11, 2020</td>\n",
       "      <td>9</td>\n",
       "      <td>6.5</td>\n",
       "      <td>English</td>\n",
       "      <td>2020-12-11</td>\n",
       "    </tr>\n",
       "    <tr>\n",
       "      <th>417</th>\n",
       "      <td>Cops and Robbers</td>\n",
       "      <td>Animation / Short</td>\n",
       "      <td>December 28, 2020</td>\n",
       "      <td>7</td>\n",
       "      <td>6.9</td>\n",
       "      <td>English</td>\n",
       "      <td>2020-12-28</td>\n",
       "    </tr>\n",
       "    <tr>\n",
       "      <th>40</th>\n",
       "      <td>Sol Levante</td>\n",
       "      <td>Anime / Short</td>\n",
       "      <td>April 2, 2020</td>\n",
       "      <td>4</td>\n",
       "      <td>4.7</td>\n",
       "      <td>English</td>\n",
       "      <td>2020-04-02</td>\n",
       "    </tr>\n",
       "  </tbody>\n",
       "</table>\n",
       "<p>584 rows × 7 columns</p>\n",
       "</div>"
      ],
      "text/plain": [
       "                                                 Title                  Genre  \\\n",
       "561                                       The Irishman            Crime drama   \n",
       "328                                        Da 5 Bloods              War drama   \n",
       "581                            Springsteen on Broadway           One-man show   \n",
       "247                                           Citation                  Drama   \n",
       "284                                 The Forest of Love                  Drama   \n",
       "..                                                 ...                    ...   \n",
       "498                                              Zion             Documentary   \n",
       "66   American Factory: A Conversation with the Obamas   Aftershow / Interview   \n",
       "325                                            Canvas       Animation / Short   \n",
       "417                                   Cops and Robbers      Animation / Short   \n",
       "40                                         Sol Levante          Anime / Short   \n",
       "\n",
       "              Premiere  Runtime  IMDB Score  Language   date_new  \n",
       "561  November 27, 2019      209         7.8   English 2019-11-27  \n",
       "328      June 12, 2020      155         6.5   English 2020-06-12  \n",
       "581  December 16, 2018      153         8.5   English 2018-12-16  \n",
       "247   November 6, 2020      151         6.2   English 2020-11-06  \n",
       "284   October 11, 2019      151         6.3  Japanese 2019-10-11  \n",
       "..                 ...      ...         ...       ...        ...  \n",
       "498    August 10, 2018       11         7.2   English 2018-08-10  \n",
       "66     August 21, 2019       10         5.2   English 2019-08-21  \n",
       "325  December 11, 2020        9         6.5   English 2020-12-11  \n",
       "417  December 28, 2020        7         6.9   English 2020-12-28  \n",
       "40       April 2, 2020        4         4.7   English 2020-04-02  \n",
       "\n",
       "[584 rows x 7 columns]"
      ]
     },
     "execution_count": 97,
     "metadata": {},
     "output_type": "execute_result"
    }
   ],
   "source": [
    "#Veri setine göre uzun soluklu filmler hangi dilde oluşturulmuştur?\n",
    "\n",
    "print(data.Runtime.mean())\n",
    "#sayısal verilerin nasıl dağıldığını görnek için hızlı bir yöntem\n",
    "print(data.describe())\n",
    "data.sort_values(\"Runtime\", ascending=False)"
   ]
  },
  {
   "cell_type": "code",
   "execution_count": 140,
   "metadata": {},
   "outputs": [
    {
     "data": {
      "image/png": "[encoded data removed]",
      "text/plain": [
       "<Figure size 1440x360 with 1 Axes>"
      ]
     },
     "metadata": {
      "needs_background": "light"
     },
     "output_type": "display_data"
    }
   ],
   "source": [
    "#En uzun filmleri aldık, dillerini uzunluklarına kırararak saydırdırdık. İngilizce en yoğun dil çıktı.\n",
    "data1 = data.sort_values(\"Runtime\", ascending=False).head(20)\n",
    "plt.figure(figsize=(20,5))\n",
    "plt.title(\"Count number of long duration movies\")\n",
    "sns.countplot(x=\"Language\", data = data1, hue=\"Runtime\")\n",
    "plt.show()"
   ]
  },
  {
   "cell_type": "code",
   "execution_count": 162,
   "metadata": {},
   "outputs": [
    {
     "data": {
      "image/png": "[encoded data removed]",
      "text/plain": [
       "<Figure size 1440x360 with 1 Axes>"
      ]
     },
     "metadata": {
      "needs_background": "light"
     },
     "output_type": "display_data"
    }
   ],
   "source": [
    "#2019 Ocak ile 2020 Haziran tarihleri arasında 'Documentary' türünde çekilmiş filmlerin IMDB değerlerini bulup görselleştiriniz.\n",
    "\n",
    "data2 = data[data[\"date_new\"].between('2019-01-01','2020-06-01')]\n",
    "data2 = data[data[\"Genre\"] == \"Documentary\"]\n",
    "\n",
    "plt.figure(figsize=(20,5))\n",
    "plt.title(\"2019-2020 Belgesel Filmleri IMDB Puanları\")\n",
    "sns.countplot(x=\"IMDB Score\", data = data2)\n",
    "plt.show()\n"
   ]
  },
  {
   "cell_type": "code",
   "execution_count": null,
   "metadata": {},
   "outputs": [],
   "source": [
    "#İngilizce çekilen filmler içerisinde hangi tür en yüksek IMDB puanına sahiptir?"
   ]
  }
 ],
 "metadata": {
  "kernelspec": {
   "display_name": "Python 3.10.4 64-bit",
   "language": "python",
   "name": "python3"
  },
  "language_info": {
   "codemirror_mode": {
    "name": "ipython",
    "version": 3
   },
   "file_extension": ".py",
   "mimetype": "text/x-python",
   "name": "python",
   "nbconvert_exporter": "python",
   "pygments_lexer": "ipython3",
   "version": "3.10.4"
  },
  "orig_nbformat": 4,
  "vscode": {
   "interpreter": {
    "hash": "f61d1cb3b89c9f9e7480ad71bea7e0694b5d41d9d7598944eb545b322e942f3c"
   }
  }
 },
 "nbformat": 4,
 "nbformat_minor": 2
}
